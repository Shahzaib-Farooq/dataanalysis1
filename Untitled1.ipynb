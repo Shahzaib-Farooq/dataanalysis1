{
 "cells": [
  {
   "cell_type": "markdown",
   "id": "56116aa8-29d2-4553-ad1f-630d497ba8bd",
   "metadata": {},
   "source": [
    "********E-Commerce  Website********"
   ]
  },
  {
   "cell_type": "code",
   "execution_count": 15,
   "id": "3af745c8-a297-4a71-abab-7f261857fe4b",
   "metadata": {},
   "outputs": [
    {
     "name": "stdout",
     "output_type": "stream",
     "text": [
      "****Welome to E-Commerce Portal****\n"
     ]
    },
    {
     "name": "stdin",
     "output_type": "stream",
     "text": [
      "Please Select the category: \n",
      "1.Mens \n",
      "2.Women \n",
      "3.Children:  3\n"
     ]
    },
    {
     "name": "stdout",
     "output_type": "stream",
     "text": [
      "***Welcome to Childrens clothes Selection****\n"
     ]
    },
    {
     "name": "stdin",
     "output_type": "stream",
     "text": [
      "For boys suits: type 1 \n",
      " For girls suits type 2 2\n"
     ]
    },
    {
     "name": "stdout",
     "output_type": "stream",
     "text": [
      "****Welcome to Girls Collection*****\n",
      "Dear customer you can buy Frocks/Gowns, Lahenga Choli/Gharara/Kurti, Skirt and Blouse\n"
     ]
    }
   ],
   "source": [
    "def ecom():\n",
    "    print(\"****Welome to E-Commerce Portal****\")\n",
    "    opt=int(input(\"Please Select the category: \\n1.Mens \\n2.Women \\n3.Children: \"))\n",
    "    if opt==1:\n",
    "        print(\"****Welcome to Mens Clothes Collection*****\")\n",
    "        while True:\n",
    "            typ=int(input(\"What you want? \\n1.Casual \\n2.Formal: \"))\n",
    "            if typ==1:\n",
    "                print(\"*****Welcome to Casual Dress Collection******\")\n",
    "                cas=int(input(\"Dear customer you can buy following dresses in casual category: \\n1.T-shirt and jeans \\n2.Hoodie and Sneakers: \"))\n",
    "                if cas==1:\n",
    "                    print(\"Dear customer you can buy T-shirt and jeans\")\n",
    "                elif cas==2:\n",
    "                    print(\"Dear customer you can buy Hoodie and Sneakers\")\n",
    "                    rerun=input(\"Do you want to rerun? y/n\")\n",
    "                    if rerun==\"y\":\n",
    "                        continue\n",
    "                    elif rerun==\"y\":\n",
    "                        break\n",
    "            elif typ==2:\n",
    "                print(\"*****Welcome to formal Dress Collection******\")\n",
    "                cas=int(input(\"Dear customer you can buy following dresses in casual category: \\n1.Suit and tie \\n2.Dress shirt and trousers: \"))\n",
    "                if cas==1:\n",
    "                    print(\"Dear customer you can buy Suit and tie\")\n",
    "                elif cas==2:\n",
    "                    print(\"Dear customer you can buy Shirt and trousers\")\n",
    "                \n",
    "    elif opt==2:\n",
    "        \n",
    "        print(\"****Welcome to Women Clothes Collection*****\")\n",
    "        typ=int(input(\"What you want? \\n1.Casual \\n2.Formal: \"))\n",
    "        if typ==1:\n",
    "            print(\"*****Welcome to Casual Dress Collection******\")\n",
    "            cas=int(input(\"Dear customer you can buy following dresses in casual category: \\n1.Simple froks or tops \\n2.Sneakers, sandals or flat shoes: \"))\n",
    "            if cas==1:\n",
    "                print(\"Dear customer you can buy Simple froks or tops\")\n",
    "            elif cas==2:\n",
    "                print(\"Dear customer you can buy sandals or flat shoes\")\n",
    "        elif typ==2:\n",
    "            print(\"*****Welcome to formal Dress Collection******\")\n",
    "            cas=int(input(\"Dear customer you can buy following dresses in casual category: \\n1.Business Suite with skirt/pants \\n2.Formal Shalwar Kameez or saree: \"))\n",
    "            if cas==1:\n",
    "                print(\"Dear customer you can buy Business Suite with skirt/pants\")\n",
    "            elif cas==2:\n",
    "                print(\"Dear customer you can Formal Shalwar Kameez or saree\")\n",
    "    elif opt==3:\n",
    "        print(\"***Welcome to Childrens clothes Selection****\")\n",
    "        gen=int(input(\"For boys suits: type 1 \\n For girls suits type 2\"))\n",
    "        if gen==1:\n",
    "            print(\"****Welcome to Boys Collection*****\")\n",
    "            print(\"Dear customer you can buy Blazer+Pants, Blazer + Waistcoat, Shalwar kameez\")\n",
    "        elif gen==2:\n",
    "            print(\"****Welcome to Girls Collection*****\")\n",
    "            print(\"Dear customer you can buy Frocks/Gowns, Lahenga Choli/Gharara/Kurti, Skirt and Blouse\")   \n",
    "    else:\n",
    "        print(\"No other category is available\")\n",
    "ecom()"
   ]
  },
  {
   "cell_type": "code",
   "execution_count": null,
   "id": "04421953-5e13-4fb0-ad71-fb8856073981",
   "metadata": {},
   "outputs": [],
   "source": []
  }
 ],
 "metadata": {
  "kernelspec": {
   "display_name": "Python 3 (ipykernel)",
   "language": "python",
   "name": "python3"
  },
  "language_info": {
   "codemirror_mode": {
    "name": "ipython",
    "version": 3
   },
   "file_extension": ".py",
   "mimetype": "text/x-python",
   "name": "python",
   "nbconvert_exporter": "python",
   "pygments_lexer": "ipython3",
   "version": "3.13.0rc2"
  }
 },
 "nbformat": 4,
 "nbformat_minor": 5
}
